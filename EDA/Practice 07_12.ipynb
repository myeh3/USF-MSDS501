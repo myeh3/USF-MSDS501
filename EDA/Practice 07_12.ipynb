{
 "cells": [
  {
   "cell_type": "code",
   "execution_count": 27,
   "metadata": {},
   "outputs": [
    {
     "name": "stdout",
     "output_type": "stream",
     "text": [
      "Index(['Date', 'Time', 'PU_Address', 'DO_Address', 'Routing Details',\n",
      "       'PU_Address.1', 'Status'],\n",
      "      dtype='object')\n",
      "99\n",
      "              Date      Time                 PU_Address            DO_Address  \\\n",
      "count           99        99                         99                    98   \n",
      "unique          20        52                         96                    54   \n",
      "top     07/03/2014  09:30 AM  657 St Marks Ave., BK NY;  La Guardia Airport;    \n",
      "freq            12         6                          2                    21   \n",
      "\n",
      "                                          Routing Details  \\\n",
      "count                                                  99   \n",
      "unique                                                 98   \n",
      "top     PU: 437 Prospect Ave, BK NY; DO: La Guardia Ai...   \n",
      "freq                                                    2   \n",
      "\n",
      "                                             PU_Address.1   Status  \n",
      "count                                                  99       99  \n",
      "unique                                                 98        3  \n",
      "top     437 Prospect Ave, BK NY; DO: La Guardia Airport;   Arrived  \n",
      "freq                                                    2       58  \n",
      "The frequency table is as below: \n",
      " col_0      count\n",
      "Status          \n",
      "Arrived       58\n",
      "Assigned      32\n",
      "Cancelled      9\n",
      "The proportion table is as below: \n",
      " col_0      percentage\n",
      "Status               \n",
      "Arrived      0.585859\n",
      "Assigned     0.323232\n",
      "Cancelled    0.090909\n"
     ]
    }
   ],
   "source": [
    "#practice 1\n",
    "import pandas as pd\n",
    "import matplotlib.pyplot as plt\n",
    "\n",
    "df_uber = pd.read_csv('kaggle-uber-other-federal.csv')\n",
    "\n",
    "#1.Display the column names for df_uber data frame.\n",
    "print(df_uber.columns)\n",
    "\n",
    "#2.Display the number of rows for df_uber data frame.\n",
    "print(len(df_uber))\n",
    "\n",
    "#3.Apply `dt.describe()` to df_uber data frame, what results have you observed? Quickly check what information it has provided.\n",
    "print(df_uber.describe())\n",
    "#It provides the count/unique value/top/the most common value's frequencey data of the dataframe.\n",
    "#one DO_Address data is missing\n",
    "\n",
    "\n",
    "\n",
    "#4.Display the frequency and proportion table of \"Status\" from df_uber data\n",
    "frequency_table=pd.crosstab(index=df_uber['Status'],columns='count')\n",
    "print('The frequency table is as below:','\\n',frequency_table)\n",
    "\n",
    "proportion_table=pd.crosstab(index=df_uber['Status'],columns='percentage', normalize='columns')\n",
    "print('The proportion table is as below:','\\n',proportion_table)"
   ]
  },
  {
   "cell_type": "code",
   "execution_count": 28,
   "metadata": {},
   "outputs": [
    {
     "name": "stdout",
     "output_type": "stream",
     "text": [
      "         Date      Time                                  PU_Address  \\\n",
      "0  07/01/2014  07:15 AM  Brooklyn Museum, 200 Eastern Pkwy., BK NY;   \n",
      "1  07/01/2014  07:30 AM              33 Robert Dr., Short Hills NJ;   \n",
      "2  07/01/2014  08:00 AM                    60 Glenmore Ave., BK NY;   \n",
      "3  07/01/2014  09:00 AM                     128 East 31 St., BK NY;   \n",
      "4  07/01/2014  09:30 AM                139-39 35 Ave., Flushing NY;   \n",
      "\n",
      "                                          DO_Address  \\\n",
      "0                         1 Brookdale Plaza, BK NY;    \n",
      "1  John F Kennedy International Airport, vitona A...   \n",
      "2                        2171 Nostrand Ave., BK NY;    \n",
      "3                              369 93rd St., BK NY;    \n",
      "4                               La Guardia Airport;    \n",
      "\n",
      "                                     Routing Details  \\\n",
      "0  PU: Brooklyn Museum, 200 Eastern Pkwy., BK NY;...   \n",
      "1  PU: 33 Robert Dr., Short Hills NJ; DO: John F ...   \n",
      "2  PU: 60 Glenmore Ave., BK NY; DO: 2171 Nostrand...   \n",
      "3  PU: 128 East 31 St., BK NY; DO: 369 93rd St., ...   \n",
      "4  PU: 139-39 35 Ave., Flushing NY; DO: La Guardi...   \n",
      "\n",
      "                                        PU_Address.1     Status  \n",
      "0  Brooklyn Museum, 200 Eastern Pkwy., BK NY; DO:...  Cancelled  \n",
      "1  33 Robert Dr., Short Hills NJ; DO: John F Kenn...    Arrived  \n",
      "2  60 Glenmore Ave., BK NY; DO: 2171 Nostrand Ave...   Assigned  \n",
      "3  128 East 31 St., BK NY; DO: 369 93rd St., BK NY;    Assigned  \n",
      "4  139-39 35 Ave., Flushing NY; DO: La Guardia Ai...   Assigned  \n"
     ]
    }
   ],
   "source": [
    "#practice 2\n",
    "df_uber = pd.read_csv('kaggle-uber-other-federal.csv')\n",
    "print(df_uber.head())"
   ]
  },
  {
   "cell_type": "code",
   "execution_count": 40,
   "metadata": {},
   "outputs": [
    {
     "name": "stdout",
     "output_type": "stream",
     "text": [
      "['Arrived' 'Assigned' 'Cancelled']\n",
      "col_0      count\n",
      "Status          \n",
      "Arrived       58\n",
      "Assigned      32\n",
      "Cancelled      9\n"
     ]
    }
   ],
   "source": [
    "df_uber_groupbystatus=pd.crosstab(index=df_uber['Status'], columns='count')\n",
    "x=df_uber_groupbystatus.index.values\n",
    "print(x)\n",
    "y=df_uber_groupbystatus['count'].values\n",
    "print(df_uber_groupbystatus)"
   ]
  },
  {
   "cell_type": "code",
   "execution_count": 41,
   "metadata": {},
   "outputs": [
    {
     "data": {
      "image/png": "[encoded data removed]",
      "text/plain": [
       "<Figure size 432x288 with 1 Axes>"
      ]
     },
     "metadata": {
      "needs_background": "light"
     },
     "output_type": "display_data"
    }
   ],
   "source": [
    "fig,ax=plt.subplots(figsize=(6,4))\n",
    "ax.bar(x,y)\n",
    "plt.show()"
   ]
  },
  {
   "cell_type": "code",
   "execution_count": null,
   "metadata": {},
   "outputs": [],
   "source": []
  }
 ],
 "metadata": {
  "kernelspec": {
   "display_name": "Python 3",
   "language": "python",
   "name": "python3"
  },
  "language_info": {
   "codemirror_mode": {
    "name": "ipython",
    "version": 3
   },
   "file_extension": ".py",
   "mimetype": "text/x-python",
   "name": "python",
   "nbconvert_exporter": "python",
   "pygments_lexer": "ipython3",
   "version": "3.8.5"
  }
 },
 "nbformat": 4,
 "nbformat_minor": 4
}
