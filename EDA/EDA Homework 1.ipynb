{
 "cells": [
  {
   "cell_type": "code",
   "execution_count": 1,
   "metadata": {},
   "outputs": [],
   "source": [
    "import pandas as pd\n",
    "import numpy as np\n",
    "import matplotlib.pyplot as plt\n",
    "import seaborn as sns"
   ]
  },
  {
   "cell_type": "markdown",
   "metadata": {},
   "source": [
    "# Question1"
   ]
  },
  {
   "cell_type": "code",
   "execution_count": 2,
   "metadata": {},
   "outputs": [
    {
     "name": "stdout",
     "output_type": "stream",
     "text": [
      "(13,)\n",
      "int64\n"
     ]
    }
   ],
   "source": [
    "questionone=np.arange(100,113)\n",
    "#(a)\n",
    "print(questionone.shape)\n",
    "#(b)\n",
    "print(questionone.dtype)\n",
    "#(c)\n",
    "newarray=questionone[5:11]\n",
    "for i in range(len(newarray)):\n",
    "    newarray[i]=0\n",
    "#(d)\n",
    "checkquestionone=[True if x>105 and x<=110 else False for x in questionone]\n",
    "#(e)\n",
    "for i in range(len(questionone)):\n",
    "    if questionone[i]>105 and questionone[i]<=110:\n",
    "        questionone[i]=0\n",
    "    else:\n",
    "        pass"
   ]
  },
  {
   "cell_type": "markdown",
   "metadata": {},
   "source": [
    "# Question2"
   ]
  },
  {
   "cell_type": "code",
   "execution_count": 3,
   "metadata": {},
   "outputs": [
    {
     "name": "stdout",
     "output_type": "stream",
     "text": [
      "10\n",
      "[1994, 1995, 1996, 1997, 1998, 1999, 2000]\n",
      "0    1.107402\n",
      "1    1.324050\n",
      "2    1.457371\n",
      "3   -0.425796\n",
      "4   -0.484124\n",
      "5   -0.142487\n",
      "6   -0.417463\n",
      "7   -0.234146\n",
      "8   -1.742346\n",
      "9   -0.442461\n",
      "dtype: float64\n",
      "6\n"
     ]
    },
    {
     "data": {
      "text/plain": [
       "0       0.0\n",
       "1       0.0\n",
       "2       0.0\n",
       "3       0.0\n",
       "4       0.0\n",
       "5       0.0\n",
       "6    1997.0\n",
       "7    1998.0\n",
       "8    1999.0\n",
       "9    2000.0\n",
       "dtype: float64"
      ]
     },
     "execution_count": 3,
     "metadata": {},
     "output_type": "execute_result"
    }
   ],
   "source": [
    "questiontwo=pd.Series(range(1991,2001,1))\n",
    "#(a)\n",
    "print(len(questiontwo))\n",
    "#(b)\n",
    "questiontworainfall=pd.Series([12.09,12.35,12.51,10.25,10.18,10.59,10.26,10.48,8.67,10.23])\n",
    "#(c)\n",
    "yearwithlessrain=[]\n",
    "for i in range(len(questiontwo)):\n",
    "    if questiontworainfall[i]<11.0:\n",
    "        yearwithlessrain.append(questiontwo[i])\n",
    "    else:\n",
    "        pass\n",
    "print(yearwithlessrain)\n",
    "#(d)\n",
    "questiontworainfall=(questiontworainfall-questiontworainfall.mean())/questiontworainfall.std()\n",
    "print(questiontworainfall)\n",
    "\n",
    "#(e)\n",
    "questiontwo[questiontwo.values<=1996]=np.nan\n",
    "numberofna=questiontwo.isna().sum()\n",
    "print(numberofna)\n",
    "#(f)\n",
    "questiontwo.fillna(0)"
   ]
  },
  {
   "cell_type": "markdown",
   "metadata": {},
   "source": [
    "# Question3"
   ]
  },
  {
   "cell_type": "code",
   "execution_count": 4,
   "metadata": {},
   "outputs": [
    {
     "name": "stdout",
     "output_type": "stream",
     "text": [
      "[[ 1.         -0.83224421]\n",
      " [-0.83224421  1.        ]]\n"
     ]
    }
   ],
   "source": [
    "#(a)\n",
    "cars=pd.read_csv('cars.csv')\n",
    "a=np.corrcoef(cars['WGT'],cars['MPG'])\n",
    "print(a)"
   ]
  },
  {
   "cell_type": "markdown",
   "metadata": {},
   "source": [
    "1.The correlation between a car’s weight and the MPG is -0.83224421.\n",
    "\n",
    "2.The correlation tells us that the weight of a car and the MPG is strong negative correlation"
   ]
  },
  {
   "cell_type": "code",
   "execution_count": 5,
   "metadata": {},
   "outputs": [
    {
     "name": "stdout",
     "output_type": "stream",
     "text": [
      "           MPG  CYL    ENG   WGT\n",
      "0    18.000000    8  307.0  3504\n",
      "1    15.000000    8  350.0  3693\n",
      "2    18.000000    8  318.0  3436\n",
      "3    16.000000    8  304.0  3433\n",
      "4    17.000000    8  302.0  3449\n",
      "..         ...  ...    ...   ...\n",
      "289  19.200001    8  267.0  3605\n",
      "290  18.500000    8  360.0  3940\n",
      "296  23.000000    8  350.0  3900\n",
      "298  23.900000    8  260.0  3420\n",
      "359  26.600000    8  350.0  3725\n",
      "\n",
      "[103 rows x 4 columns]\n"
     ]
    }
   ],
   "source": [
    "#(b)\n",
    "print(cars[cars['CYL']==8])\n",
    "\n",
    "#(c)\n",
    "cars['ENG2WGT']=cars['ENG']/cars['WGT']"
   ]
  },
  {
   "cell_type": "markdown",
   "metadata": {},
   "source": [
    "# Question4"
   ]
  },
  {
   "cell_type": "code",
   "execution_count": 6,
   "metadata": {},
   "outputs": [
    {
     "name": "stdout",
     "output_type": "stream",
     "text": [
      "                       Status                   PU_Address  Hour\n",
      "Time                                                            \n",
      "2021-07-11 20:00:00  Assigned    35-36 32 St., Astoria NY;    20\n",
      "2021-07-11 03:30:00   Arrived   862 East 21 Street, BK NY;     3\n",
      "2021-07-11 14:00:00  Assigned     1539 71st Street, BK NY;    14\n",
      "2021-07-11 15:00:00   Arrived      208 Elmwood ave, BK NY;    15\n",
      "2021-07-11 20:45:00   Arrived            543 1 St., BK NY;    20\n",
      "2021-07-11 05:00:00   Arrived  513 Montgomery StreetBK NY;     5\n",
      "Series([], Name: PU_Address, dtype: object)\n"
     ]
    }
   ],
   "source": [
    "kaggle=pd.read_csv('kaggle-uber-other-federal.csv')\n",
    "#(a)\n",
    "kaggle=kaggle[['Time', 'Status','PU_Address']]\n",
    "#(b)\n",
    "kaggle['Time']=kaggle['Time'].astype('datetime64')\n",
    "kaggle['Hour']=kaggle['Time'].dt.hour\n",
    "\n",
    "#(c)\n",
    "kaggle=kaggle.set_index(['Time'])\n",
    "#(d)\n",
    "print(kaggle.iloc[10:16])\n",
    "#(e)\n",
    "print(kaggle['PU_Address'].loc['2021-07-10 20:00:00'])\n",
    "\n",
    "#(f)\n",
    "kaggle=kaggle.reset_index()"
   ]
  },
  {
   "cell_type": "markdown",
   "metadata": {},
   "source": [
    "# Question5"
   ]
  },
  {
   "cell_type": "code",
   "execution_count": 7,
   "metadata": {},
   "outputs": [],
   "source": [
    "cereal=pd.read_csv('cereal.csv')\n",
    "#(a)"
   ]
  },
  {
   "cell_type": "markdown",
   "metadata": {},
   "source": [
    "1.what is the distribution of the vitamins in each cereal product\n",
    "\n",
    "2.what is the distribution of the sugars in each cereal product\n",
    "\n",
    "3.what is the distribution of the cups in each cereal product\n",
    "\n",
    "4.which brands get the highest average rating among all the cereal products\n",
    "\n",
    "5.what is the relationship between ratings and each nutritions"
   ]
  },
  {
   "cell_type": "code",
   "execution_count": 8,
   "metadata": {},
   "outputs": [
    {
     "name": "stdout",
     "output_type": "stream",
     "text": [
      "<class 'pandas.core.frame.DataFrame'>\n",
      "RangeIndex: 77 entries, 0 to 76\n",
      "Data columns (total 16 columns):\n",
      " #   Column    Non-Null Count  Dtype  \n",
      "---  ------    --------------  -----  \n",
      " 0   name      77 non-null     object \n",
      " 1   mfr       77 non-null     object \n",
      " 2   type      77 non-null     object \n",
      " 3   calories  77 non-null     int64  \n",
      " 4   protein   77 non-null     int64  \n",
      " 5   fat       77 non-null     int64  \n",
      " 6   sodium    77 non-null     int64  \n",
      " 7   fiber     77 non-null     float64\n",
      " 8   carbo     77 non-null     float64\n",
      " 9   sugars    77 non-null     int64  \n",
      " 10  potass    77 non-null     int64  \n",
      " 11  vitamins  77 non-null     int64  \n",
      " 12  shelf     77 non-null     int64  \n",
      " 13  weight    77 non-null     float64\n",
      " 14  cups      77 non-null     float64\n",
      " 15  rating    77 non-null     float64\n",
      "dtypes: float64(5), int64(8), object(3)\n",
      "memory usage: 9.8+ KB\n",
      "None\n",
      "                        name mfr type  calories  protein  fat  sodium  fiber  \\\n",
      "0                  100% Bran   N    C        70        4    1     130   10.0   \n",
      "1          100% Natural Bran   Q    C       120        3    5      15    2.0   \n",
      "2                   All-Bran   K    C        70        4    1     260    9.0   \n",
      "3  All-Bran with Extra Fiber   K    C        50        4    0     140   14.0   \n",
      "4             Almond Delight   R    C       110        2    2     200    1.0   \n",
      "\n",
      "   carbo  sugars  potass  vitamins  shelf  weight  cups     rating  \n",
      "0    5.0       6     280        25      3     1.0  0.33  68.402973  \n",
      "1    8.0       8     135         0      3     1.0  1.00  33.983679  \n",
      "2    7.0       5     320        25      3     1.0  0.33  59.425505  \n",
      "3    8.0       0     330        25      3     1.0  0.50  93.704912  \n",
      "4   14.0       8      -1        25      3     1.0  0.75  34.384843  \n",
      "         calories    protein        fat      sodium      fiber      carbo  \\\n",
      "count   77.000000  77.000000  77.000000   77.000000  77.000000  77.000000   \n",
      "mean   106.883117   2.545455   1.012987  159.675325   2.151948  14.597403   \n",
      "std     19.484119   1.094790   1.006473   83.832295   2.383364   4.278956   \n",
      "min     50.000000   1.000000   0.000000    0.000000   0.000000  -1.000000   \n",
      "25%    100.000000   2.000000   0.000000  130.000000   1.000000  12.000000   \n",
      "50%    110.000000   3.000000   1.000000  180.000000   2.000000  14.000000   \n",
      "75%    110.000000   3.000000   2.000000  210.000000   3.000000  17.000000   \n",
      "max    160.000000   6.000000   5.000000  320.000000  14.000000  23.000000   \n",
      "\n",
      "          sugars      potass    vitamins       cups     rating  \n",
      "count  77.000000   77.000000   77.000000  77.000000  77.000000  \n",
      "mean    6.922078   96.077922   28.246753   0.821039  42.665705  \n",
      "std     4.444885   71.286813   22.342523   0.232716  14.047289  \n",
      "min    -1.000000   -1.000000    0.000000   0.250000  18.042851  \n",
      "25%     3.000000   40.000000   25.000000   0.670000  33.174094  \n",
      "50%     7.000000   90.000000   25.000000   0.750000  40.400208  \n",
      "75%    11.000000  120.000000   25.000000   1.000000  50.828392  \n",
      "max    15.000000  330.000000  100.000000   1.500000  93.704912  \n"
     ]
    }
   ],
   "source": [
    "#(b)\n",
    "print(cereal.info())\n",
    "print(cereal.head())\n",
    "print(cereal[['calories','protein','fat','sodium','fiber','carbo','sugars','potass','vitamins','cups','rating']].describe())"
   ]
  },
  {
   "cell_type": "markdown",
   "metadata": {},
   "source": [
    "To answer the questions, we will need the columns: 'calories', 'protein', 'fat', 'sodium', 'fiber','carbo','sugars','potass','vitamins','cups','rating'.\n",
    "\n",
    "Finding1:There is not any missing value\n",
    "\n",
    "Finding2:The is data error happened in sugar, potass and carbo. The data should not be -1.\n",
    "\n",
    "Finding3:Most of the products have the 25 typical percentage of FDA recommended"
   ]
  },
  {
   "cell_type": "code",
   "execution_count": 9,
   "metadata": {},
   "outputs": [],
   "source": [
    "#(c)"
   ]
  },
  {
   "cell_type": "markdown",
   "metadata": {},
   "source": [
    "1.The historgram and boxplot of the amount of vitamins for all the products\n",
    "\n",
    "2.The historgram and boxplot of the amount of sugars for all the products\n",
    "\n",
    "3.The historgram and boxplot of the amount of cups for all the products\n",
    "\n",
    "4.The boxplot of the ratings among all the brands\n",
    "\n",
    "5.The scatterplot for the relationship of the ratings with each nutritions"
   ]
  },
  {
   "cell_type": "code",
   "execution_count": 10,
   "metadata": {},
   "outputs": [
    {
     "data": {
      "image/png": "[encoded data removed]",
      "text/plain": [
       "<Figure size 720x432 with 6 Axes>"
      ]
     },
     "metadata": {
      "needs_background": "light"
     },
     "output_type": "display_data"
    }
   ],
   "source": [
    "#(d)\n",
    "fig,ax=plt.subplots(2,3,figsize=(10,6))\n",
    "ax[0][0].boxplot(x='vitamins',data=cereal)\n",
    "ax[0][0].set_title('vitamins boxplot')\n",
    "ax[0][1].boxplot(x='sugars',data=cereal)\n",
    "ax[0][1].set_title('sugars boxplot')\n",
    "ax[0][2].boxplot(x='cups',data=cereal)\n",
    "ax[0][2].set_title('cups boxplot')\n",
    "ax[1][0].hist(x='vitamins',data=cereal)\n",
    "ax[1][0].set_title('vitamins histogram')\n",
    "ax[1][1].hist(x='sugars',data=cereal)\n",
    "ax[1][1].set_title('sugars histogram')\n",
    "ax[1][2].hist(x='cups',data=cereal)\n",
    "ax[1][2].set_title('cups histogram')\n",
    "fig.tight_layout()\n",
    "plt.show()"
   ]
  },
  {
   "cell_type": "markdown",
   "metadata": {},
   "source": [
    "1.These plots shows the distribution of the amount of the vitamin and cups in the cereals is uneven \n",
    "\n",
    "2.These plots shows the distribution of the amount of the sugar in the cereals is even "
   ]
  },
  {
   "cell_type": "code",
   "execution_count": 11,
   "metadata": {},
   "outputs": [
    {
     "data": {
      "image/png": "[encoded data removed]",
      "text/plain": [
       "<Figure size 864x864 with 1 Axes>"
      ]
     },
     "metadata": {
      "needs_background": "light"
     },
     "output_type": "display_data"
    }
   ],
   "source": [
    "plt.figure(figsize=(12,12))\n",
    "sns.boxplot(x='rating',y='mfr',data=cereal,palette=\"Set3\",hue='mfr')\n",
    "plt.show()\n"
   ]
  },
  {
   "cell_type": "markdown",
   "metadata": {},
   "source": [
    "3.The plot shows one of the cereal product of Kelloggs has the highest rating among all the cereals\n",
    "\n",
    "4.The plot shows the average rating of Nabisco products is higher than the other brands"
   ]
  },
  {
   "cell_type": "code",
   "execution_count": 12,
   "metadata": {},
   "outputs": [
    {
     "data": {
      "image/png": "[encoded data removed]",
      "text/plain": [
       "<Figure size 648x648 with 9 Axes>"
      ]
     },
     "metadata": {
      "needs_background": "light"
     },
     "output_type": "display_data"
    }
   ],
   "source": [
    "fig,ax=plt.subplots(3,3,figsize=(9,9))\n",
    "ax[0][0].scatter(x='calories',y='rating',data=cereal)\n",
    "ax[0][0].set_xlabel('calories')\n",
    "ax[0][0].set_ylabel('rating')\n",
    "\n",
    "ax[0][1].scatter(x='protein',y='rating',data=cereal)\n",
    "ax[0][1].set_xlabel('protein')\n",
    "ax[0][1].set_ylabel('rating')\n",
    "\n",
    "ax[0][2].scatter(x='fat',y='rating',data=cereal)\n",
    "ax[0][2].set_xlabel('fat')\n",
    "ax[0][2].set_ylabel('rating')\n",
    "\n",
    "ax[1][0].scatter(x='sodium',y='rating',data=cereal)\n",
    "ax[1][0].set_xlabel('sodium')\n",
    "ax[1][0].set_ylabel('rating')\n",
    "\n",
    "ax[1][1].scatter(x='fiber',y='rating',data=cereal)\n",
    "ax[1][1].set_xlabel('fiber')\n",
    "ax[1][1].set_ylabel('rating')\n",
    "\n",
    "ax[1][2].scatter(x='carbo',y='rating',data=cereal)\n",
    "ax[1][2].set_xlabel('carbo')\n",
    "ax[1][2].set_ylabel('rating')\n",
    "\n",
    "ax[2][0].scatter(x='sugars',y='rating',data=cereal)\n",
    "ax[2][0].set_xlabel('sugars')\n",
    "ax[2][0].set_ylabel('rating')\n",
    "\n",
    "ax[2][1].scatter(x='potass',y='rating',data=cereal)\n",
    "ax[2][1].set_xlabel('potass')\n",
    "ax[2][1].set_ylabel('rating')\n",
    "\n",
    "ax[2][2].scatter(x='vitamins',y='rating',data=cereal)\n",
    "ax[2][2].set_xlabel('vitamins')\n",
    "ax[2][2].set_ylabel('rating')\n",
    "\n",
    "fig.tight_layout()\n",
    "plt.show()\n"
   ]
  },
  {
   "cell_type": "markdown",
   "metadata": {},
   "source": [
    "5.The plots shows customers may give higher ratings or feel more satisfied with the cereals if they have less calories and sugars"
   ]
  },
  {
   "cell_type": "code",
   "execution_count": 13,
   "metadata": {},
   "outputs": [],
   "source": [
    "#(e)"
   ]
  },
  {
   "cell_type": "markdown",
   "metadata": {},
   "source": [
    "I think we also need to collect the following data which is outside of the dataset now:\n",
    "\n",
    "1.price: this data could help the boss do better cost management \n",
    "\n",
    "2.yearly sales amount: this data could help the boss understand which cerials are more attractive to customers\n",
    "\n",
    "3.the number of complaints about the food quality: this data could help the boss avoid the risk of the food quality issue\n"
   ]
  }
 ],
 "metadata": {
  "kernelspec": {
   "display_name": "Python 3",
   "language": "python",
   "name": "python3"
  },
  "language_info": {
   "codemirror_mode": {
    "name": "ipython",
    "version": 3
   },
   "file_extension": ".py",
   "mimetype": "text/x-python",
   "name": "python",
   "nbconvert_exporter": "python",
   "pygments_lexer": "ipython3",
   "version": "3.8.5"
  }
 },
 "nbformat": 4,
 "nbformat_minor": 4
}
